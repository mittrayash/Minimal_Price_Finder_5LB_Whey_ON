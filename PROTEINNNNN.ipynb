{
 "cells": [
  {
   "cell_type": "code",
   "execution_count": 23,
   "metadata": {},
   "outputs": [],
   "source": [
    "__author__ = 'mittr'\n",
    "\n",
    "from urllib.request import urlopen as ureq\n",
    "from bs4 import BeautifulSoup as Soup\n",
    "import re\n",
    "import operator\n",
    "import urllib.request as urllib2"
   ]
  },
  {
   "cell_type": "code",
   "execution_count": 3,
   "metadata": {},
   "outputs": [],
   "source": [
    "# Let's fetch the soup for the page here!\n",
    "my_url = 'https://www.amazon.in/Optimum-Nutrition-Standard-Protein-Powder/dp/B000QSNYGI/ref=sr_1_6?s=hpc&ie=UTF8&qid=1516012071&sr=1-6&keywords=whey+protein'\n",
    "\n",
    "uClient = ureq(my_url)\n",
    "page_html = uClient.read()\n",
    "uClient.close()\n",
    "\n",
    "page_soup = Soup(page_html, \"html.parser\")\n"
   ]
  },
  {
   "cell_type": "code",
   "execution_count": 24,
   "metadata": {
    "collapsed": true
   },
   "outputs": [],
   "source": [
    "# A little bit of Regex here to fetch the list items with id's beginning with flavor_name_\n",
    "containers = page_soup.findAll(\"li\", {\"id\": re.compile(\"^flavor_name_\")})"
   ]
  },
  {
   "cell_type": "code",
   "execution_count": 29,
   "metadata": {},
   "outputs": [
    {
     "name": "stdout",
     "output_type": "stream",
     "text": [
      " Rocky Road \t /dp/B000QSTBQU/ref=twister_B075ZYTP6Q?_encoding=UTF8&psc=1\n",
      " Chocolate Mint \t /dp/B000GIPJY8/ref=twister_B075ZYTP6Q?_encoding=UTF8&psc=1\n",
      " Coffee \t /dp/B002SG7NG8/ref=twister_B075ZYTP6Q?_encoding=UTF8&psc=1\n",
      " Cookies & Cream \t /dp/B000GIPJZ2/ref=twister_B075ZYTP6Q?_encoding=UTF8&psc=1\n",
      " Strawberry Banana \t /dp/B002DYIZT4/ref=twister_B075ZYTP6Q?_encoding=UTF8&psc=1\n",
      " Chocolate Coconut \t /dp/B0026444FA/ref=twister_B075ZYTP6Q?_encoding=UTF8&psc=1\n",
      " Vanilla Ice Cream \t /dp/B000GISU1M/ref=twister_B075ZYTP6Q?_encoding=UTF8&psc=1\n",
      " Chocolate Malt \t /dp/B002DYJ02U/ref=twister_B075ZYTP6Q?_encoding=UTF8&psc=1\n",
      " Banana Cream \t /dp/B0015R3AOA/ref=twister_B075ZYTP6Q?_encoding=UTF8&psc=1\n",
      " Mocha Cappuccino \t /dp/B002DYJ00C/ref=twister_B075ZYTP6Q?_encoding=UTF8&psc=1\n",
      " Double Rich Chocolate \t \n",
      " Cake Batter \t /dp/B0033V6UZW/ref=twister_B075ZYTP6Q?_encoding=UTF8&psc=1\n",
      " Delicious Strawberry \t /dp/B000QSRO1Y/ref=twister_B075ZYTP6Q?_encoding=UTF8&psc=1\n",
      " Extreme Milk Chocolate \t /dp/B000QSTBNS/ref=twister_B075ZYTP6Q?_encoding=UTF8&psc=1\n",
      " French Vanilla Crème \t /dp/B000QSO3FO/ref=twister_B075ZYTP6Q?_encoding=UTF8&psc=1\n"
     ]
    }
   ],
   "source": [
    "while True:\n",
    "    try:\n",
    "        # The solution set :)\n",
    "        dictionary = {}\n",
    "        for container in containers:\n",
    "            print(container['title'][15:], '\\t', container['data-dp-url'])\n",
    "            if not container['data-dp-url']:\n",
    "                price = page_soup.find(\"span\", {\"id\": \"priceblock_ourprice\"})\n",
    "                dictionary[str(container['title'][15:].strip())] = float(price.text.replace(u'\\xa0', u' ').replace(',', '').strip())\n",
    "\n",
    "            # now go to the link to fetch the price and store in the dictionary\n",
    "            else:\n",
    "                uCl = ureq('https://www.amazon.in/Optimum-Nutrition-Standard-Protein-Powder' + container['data-dp-url'])\n",
    "                html = uCl.read()\n",
    "                uCl.close()\n",
    "                soup = Soup(html, \"html.parser\")\n",
    "                price = soup.find(\"span\", {\"id\": \"priceblock_ourprice\"})\n",
    "                dictionary[str(container['title'][15:].strip())] = float(price.text.replace(u'\\xa0', u' ').replace(',', '').strip())\n",
    "    except urllib2.HTTPError as err:\n",
    "        print(\"RESTARTING - NETWORK ERROR\")\n",
    "        pass\n",
    "    else:\n",
    "        break"
   ]
  },
  {
   "cell_type": "code",
   "execution_count": 30,
   "metadata": {},
   "outputs": [
    {
     "name": "stdout",
     "output_type": "stream",
     "text": [
      "[('Chocolate Malt', 5499.0), ('Rocky Road', 5691.0), ('Chocolate Mint', 5691.0), ('Coffee', 5691.0), ('Cookies & Cream', 5691.0), ('Strawberry Banana', 5691.0), ('Banana Cream', 5691.0), ('Mocha Cappuccino', 5691.0), ('Double Rich Chocolate', 5691.0), ('Extreme Milk Chocolate', 5691.0), ('French Vanilla Crème', 5691.0), ('Vanilla Ice Cream', 5769.0), ('Delicious Strawberry', 5769.0), ('Cake Batter', 6799.0), ('Chocolate Coconut', 7084.0)]\n",
      "15\n"
     ]
    }
   ],
   "source": [
    "# Sorting the dictionary items in non decreasing order!\n",
    "\n",
    "sorted_x = sorted(dictionary.items(), key=operator.itemgetter(1))\n",
    "print(sorted_x)\n",
    "print(len(sorted_x))"
   ]
  },
  {
   "cell_type": "code",
   "execution_count": 40,
   "metadata": {},
   "outputs": [
    {
     "name": "stdout",
     "output_type": "stream",
     "text": [
      "Flavors in non-descending order of price: \n",
      "\n",
      "Chocolate Malt            5499.0 \n",
      "Rocky Road                5691.0 \n",
      "Chocolate Mint            5691.0 \n",
      "Coffee                    5691.0 \n",
      "Cookies & Cream           5691.0 \n",
      "Strawberry Banana         5691.0 \n",
      "Banana Cream              5691.0 \n",
      "Mocha Cappuccino          5691.0 \n",
      "Double Rich Chocolate     5691.0 \n",
      "Extreme Milk Chocolate    5691.0 \n",
      "French Vanilla Crème      5691.0 \n",
      "Vanilla Ice Cream         5769.0 \n",
      "Delicious Strawberry      5769.0 \n",
      "Cake Batter               6799.0 \n",
      "Chocolate Coconut         7084.0 \n"
     ]
    }
   ],
   "source": [
    "print(\"Flavors in non-descending order of price: \\n\")\n",
    "\n",
    "for flavor, price in sorted_x:\n",
    "    print(\"{:<25} {:<7}\".format(flavor, price))"
   ]
  },
  {
   "cell_type": "code",
   "execution_count": null,
   "metadata": {
    "collapsed": true
   },
   "outputs": [],
   "source": []
  }
 ],
 "metadata": {
  "kernelspec": {
   "display_name": "Python 3",
   "language": "python",
   "name": "python3"
  },
  "language_info": {
   "codemirror_mode": {
    "name": "ipython",
    "version": 3
   },
   "file_extension": ".py",
   "mimetype": "text/x-python",
   "name": "python",
   "nbconvert_exporter": "python",
   "pygments_lexer": "ipython3",
   "version": "3.6.1"
  }
 },
 "nbformat": 4,
 "nbformat_minor": 2
}
